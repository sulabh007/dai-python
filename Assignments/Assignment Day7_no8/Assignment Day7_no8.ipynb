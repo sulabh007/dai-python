{
 "cells": [
  {
   "cell_type": "markdown",
   "id": "6aca644c-1143-44d9-9080-c514d4383c01",
   "metadata": {},
   "source": [
    "Assignment 7"
   ]
  },
  {
   "cell_type": "markdown",
   "id": "cc0b514d-9393-4a63-9dd7-403bcf3f7f79",
   "metadata": {},
   "source": [
    "Q5"
   ]
  },
  {
   "cell_type": "code",
   "execution_count": 3,
   "id": "249ae4f7-2ed8-4189-843a-28a419bcc25c",
   "metadata": {},
   "outputs": [
    {
     "ename": "ValueError",
     "evalue": "not enough values to unpack (expected 2, got 1)",
     "output_type": "error",
     "traceback": [
      "Traceback \u001b[0;36m(most recent call last)\u001b[0m:\n",
      "\u001b[0;36m  Cell \u001b[0;32mIn[3], line 2\u001b[0;36m\n\u001b[0;31m    for i,j in sampleDict:\u001b[0;36m\n",
      "\u001b[0;31mValueError\u001b[0m\u001b[0;31m:\u001b[0m not enough values to unpack (expected 2, got 1)\n"
     ]
    }
   ],
   "source": [
    "sampleDict = {\"a\": 100, \"b\": 200, \"c\": 300,\"d\":200}\n",
    "for i,j in sampleDict:\n",
    "    if j==200:\n",
    "        print(f\"{i} - {j}\")\n",
    "\n"
   ]
  },
  {
   "cell_type": "code",
   "execution_count": null,
   "id": "730f277d-25a9-4c5c-8073-29516e953e13",
   "metadata": {},
   "outputs": [],
   "source": []
  }
 ],
 "metadata": {
  "kernelspec": {
   "display_name": "Python 3 (Spyder)",
   "language": "python3",
   "name": "python3"
  },
  "language_info": {
   "codemirror_mode": {
    "name": "ipython",
    "version": 3
   },
   "file_extension": ".py",
   "mimetype": "text/x-python",
   "name": "python",
   "nbconvert_exporter": "python",
   "pygments_lexer": "ipython3",
   "version": "3.11.4"
  }
 },
 "nbformat": 4,
 "nbformat_minor": 5
}
